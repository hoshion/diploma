{
 "cells": [
  {
   "cell_type": "code",
   "id": "initial_id",
   "metadata": {
    "ExecuteTime": {
     "end_time": "2025-02-06T16:47:45.371329Z",
     "start_time": "2025-02-06T16:47:42.378323Z"
    }
   },
   "source": [
    "import pandas as pd\n",
    "import ollama\n",
    "\n",
    "prompt = (\"Hi! I need to analyze sentimentally Ukrainian news. If message is positive, say POSITIVE, if message is \"\n",
    "          \"negative, say NEGATIVE, if message is neutral, say NEUTRAL.\\n\\nThe message below:\\n\")\n",
    "messages = [\n",
    "    {\"role\": \"user\", \"content\": prompt + \"poh\"},\n",
    "]\n",
    "print(messages[0]['content'])\n",
    "response = ollama.chat(model=\"deepseek-r1\", messages=messages)\n",
    "print(response[\"message\"][\"content\"])"
   ],
   "outputs": [
    {
     "ename": "ModuleNotFoundError",
     "evalue": "No module named 'ollama'",
     "output_type": "error",
     "traceback": [
      "\u001B[1;31m---------------------------------------------------------------------------\u001B[0m",
      "\u001B[1;31mModuleNotFoundError\u001B[0m                       Traceback (most recent call last)",
      "Cell \u001B[1;32mIn[1], line 2\u001B[0m\n\u001B[0;32m      1\u001B[0m \u001B[38;5;28;01mimport\u001B[39;00m \u001B[38;5;21;01mpandas\u001B[39;00m \u001B[38;5;28;01mas\u001B[39;00m \u001B[38;5;21;01mpd\u001B[39;00m\n\u001B[1;32m----> 2\u001B[0m \u001B[38;5;28;01mimport\u001B[39;00m \u001B[38;5;21;01mollama\u001B[39;00m\n\u001B[0;32m      4\u001B[0m prompt \u001B[38;5;241m=\u001B[39m (\u001B[38;5;124m\"\u001B[39m\u001B[38;5;124mHi! I need to analyze sentimentally Ukrainian news. If message is positive, say POSITIVE, if message is \u001B[39m\u001B[38;5;124m\"\u001B[39m\n\u001B[0;32m      5\u001B[0m           \u001B[38;5;124m\"\u001B[39m\u001B[38;5;124mnegative, say NEGATIVE, if message is neutral, say NEUTRAL.\u001B[39m\u001B[38;5;130;01m\\n\u001B[39;00m\u001B[38;5;130;01m\\n\u001B[39;00m\u001B[38;5;124mThe message below:\u001B[39m\u001B[38;5;130;01m\\n\u001B[39;00m\u001B[38;5;124m\"\u001B[39m)\n\u001B[0;32m      6\u001B[0m messages \u001B[38;5;241m=\u001B[39m [\n\u001B[0;32m      7\u001B[0m     {\u001B[38;5;124m\"\u001B[39m\u001B[38;5;124mrole\u001B[39m\u001B[38;5;124m\"\u001B[39m: \u001B[38;5;124m\"\u001B[39m\u001B[38;5;124muser\u001B[39m\u001B[38;5;124m\"\u001B[39m, \u001B[38;5;124m\"\u001B[39m\u001B[38;5;124mcontent\u001B[39m\u001B[38;5;124m\"\u001B[39m: prompt \u001B[38;5;241m+\u001B[39m \u001B[38;5;124m\"\u001B[39m\u001B[38;5;124mpoh\u001B[39m\u001B[38;5;124m\"\u001B[39m},\n\u001B[0;32m      8\u001B[0m ]\n",
      "\u001B[1;31mModuleNotFoundError\u001B[0m: No module named 'ollama'"
     ]
    }
   ],
   "execution_count": 1
  },
  {
   "cell_type": "code",
   "id": "b3ba21cfff646d2e",
   "metadata": {
    "ExecuteTime": {
     "end_time": "2025-02-06T00:36:14.606410Z",
     "start_time": "2025-02-06T00:36:14.601383Z"
    }
   },
   "source": [
    "def get_sentiment(text: str):\n",
    "    messages = [\n",
    "        {\"role\": \"user\", \"content\": prompt + text},\n",
    "    ]\n",
    "    print(messages[0]['content'])\n",
    "    response = ollama.chat(model=\"deepseek-r1\", messages=messages)\n",
    "    print(response[\"message\"][\"content\"])\n",
    "    return response"
   ],
   "outputs": [],
   "execution_count": 1
  },
  {
   "cell_type": "code",
   "execution_count": null,
   "id": "dfd2e7e03b1476be",
   "metadata": {
    "ExecuteTime": {
     "end_time": "2025-02-06T00:24:41.755879Z",
     "start_time": "2025-02-06T00:24:41.755879Z"
    }
   },
   "outputs": [],
   "source": [
    "if __name__ == '__main__':\n",
    "    df = pd.read_excel('translated_hromadske.xlsx')\n",
    "    df['sentiment'] = df['translated'].apply(get_sentiment)\n",
    "    df.to_excel('deepseek.xlsx', index=False)"
   ]
  }
 ],
 "metadata": {
  "kernelspec": {
   "display_name": "Python 3 (ipykernel)",
   "language": "python",
   "name": "python3"
  },
  "language_info": {
   "codemirror_mode": {
    "name": "ipython",
    "version": 3
   },
   "file_extension": ".py",
   "mimetype": "text/x-python",
   "name": "python",
   "nbconvert_exporter": "python",
   "pygments_lexer": "ipython3",
   "version": "3.12.2"
  }
 },
 "nbformat": 4,
 "nbformat_minor": 5
}
