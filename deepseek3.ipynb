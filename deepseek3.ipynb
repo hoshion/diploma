{
 "cells": [
  {
   "cell_type": "code",
   "id": "initial_id",
   "metadata": {
    "collapsed": true,
    "ExecuteTime": {
     "end_time": "2025-02-06T00:37:38.493627Z",
     "start_time": "2025-02-06T00:37:34.884263Z"
    }
   },
   "source": [
    "import pandas as pd\n",
    "from transformers import pipeline\n",
    "\n",
    "pipe = pipeline(\"text-generation\", model=\"deepseek-ai/DeepSeek-V3\", trust_remote_code=True)\n",
    "prompt = (\"Hi! I need to analyze sentimentally Ukrainian news. If message is positive, say POSITIVE, if message is \"\n",
    "          \"negative, say NEGATIVE, if message is neutral, say NEUTRAL.\\n\\nThe message below:\\n\")\n",
    "\n",
    "\n",
    "def get_sentiment(text: str):\n",
    "    messages = [\n",
    "        {\"role\": \"user\", \"content\": prompt + text},\n",
    "    ]\n",
    "    print(messages[0]['content'])\n",
    "    response = pipe(messages)\n",
    "    print(response)\n",
    "    return response\n",
    "\n",
    "\n",
    "if __name__ == '__main__':\n",
    "    df = pd.read_excel('translated_hromadske.xlsx')\n",
    "    df['sentiment'] = df['translated'].apply(get_sentiment)\n",
    "\n",
    "    df.to_excel('deepseek.xlsx', index=False)\n"
   ],
   "outputs": [
    {
     "name": "stderr",
     "output_type": "stream",
     "text": [
      "None of PyTorch, TensorFlow >= 2.0, or Flax have been found. Models won't be available and only tokenizers, configuration and file/data utilities can be used.\n",
      "\n",
      "KeyboardInterrupt\n",
      "\n"
     ]
    }
   ],
   "execution_count": 1
  },
  {
   "metadata": {},
   "cell_type": "code",
   "outputs": [],
   "execution_count": null,
   "source": "",
   "id": "e8533d250298ddd9"
  }
 ],
 "metadata": {
  "kernelspec": {
   "display_name": "Python 3",
   "language": "python",
   "name": "python3"
  },
  "language_info": {
   "codemirror_mode": {
    "name": "ipython",
    "version": 2
   },
   "file_extension": ".py",
   "mimetype": "text/x-python",
   "name": "python",
   "nbconvert_exporter": "python",
   "pygments_lexer": "ipython2",
   "version": "2.7.6"
  }
 },
 "nbformat": 4,
 "nbformat_minor": 5
}
